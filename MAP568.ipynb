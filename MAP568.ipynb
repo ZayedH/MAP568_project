{
 "cells": [
  {
   "cell_type": "code",
   "execution_count": 2,
   "metadata": {},
   "outputs": [],
   "source": [
    "import numpy as np"
   ]
  },
  {
   "attachments": {},
   "cell_type": "markdown",
   "metadata": {},
   "source": [
    "# Q1"
   ]
  },
  {
   "cell_type": "code",
   "execution_count": 6,
   "metadata": {},
   "outputs": [],
   "source": [
    "def resolutionSystem1Euler(alpha,beta,delta,gamma,y0,z0,t0,dt,N):\n",
    "    \"Cette fonctipn permet de resoudre le système (1)\"\n",
    "    temps = np.arange(0,N)*dt+t0 # si j'ai bien compris la question (dt=10/(N-1) pour 10 années)\n",
    "    y = [y0]\n",
    "    z = [z0]\n",
    "    for i in range(N-1):\n",
    "        y.append(y[i]+dt*y[i]*(alpha-beta*z[i]))\n",
    "        z.append(z[i]+dt*z[i]*(delta*y[i]-gamma))\n",
    "\n",
    "    return temps,y,z"
   ]
  },
  {
   "cell_type": "code",
   "execution_count": 11,
   "metadata": {},
   "outputs": [],
   "source": [
    "def h(y,z,alpha,beta,delta,gamma) :\n",
    "\n",
    "    return y*(alpha-beta*z),z*(delta*y-gamma)"
   ]
  },
  {
   "cell_type": "code",
   "execution_count": 13,
   "metadata": {},
   "outputs": [],
   "source": [
    "def resolutionSystem1EulerRK4(alpha,beta,delta,gamma,y0,z0,t0,dt,N):\n",
    "    \"Cette fonctipn permet de resoudre le système (1)\"\n",
    "    temps = np.arange(0,N)*dt+t0 # si j'ai bien compris la question (dt=10/(N-1) pour 10 années)\n",
    "    y = [y0]\n",
    "    z = [z0]\n",
    "    for i in range(N-1):\n",
    "        k1 = h(y[i],z[i],alpha,beta,delta,gamma)\n",
    "        k2 = h(y[i]+0.5*dt*k1[0],z[i]+0.5*dt*k1[1],alpha,beta,delta,gamma)\n",
    "        k3 = h(y[i]+0.5*dt*k2[0],z[i]+0.5*dt*k2[1],alpha,beta,delta,gamma)\n",
    "        k4 = h(y[i]+dt*k3[0],z[i]+dt*k3[1],alpha,beta,delta,gamma)\n",
    "        y.append(y[i]+(dt/6)*(k1[0]+2*k2[0]+2*k3[0]+k4[0]))\n",
    "        z.append(z[i]+(dt/6)*(k1[1]+2*k2[1]+2*k3[1]+k4[1]))\n",
    "\n",
    "    return temps,y,z"
   ]
  },
  {
   "attachments": {},
   "cell_type": "markdown",
   "metadata": {},
   "source": [
    "# Q2"
   ]
  },
  {
   "cell_type": "code",
   "execution_count": 4,
   "metadata": {},
   "outputs": [],
   "source": [
    "Nsamples = 1000\n",
    "alpha = np.random.lognormal(0.5,0.2,Nsamples)\n",
    "beta = np.random.lognormal(0.05,0.02,Nsamples)\n",
    "delta = np.random.lognormal(0.05,0.02,Nsamples)\n",
    "gamma = np.random.lognormal(0.5,0.2,Nsamples)\n",
    "y0 = np.random.lognormal(1,1,Nsamples)\n",
    "z0 = np.random.lognormal(1,1,Nsamples)"
   ]
  },
  {
   "cell_type": "code",
   "execution_count": 22,
   "metadata": {},
   "outputs": [],
   "source": [
    "N = 1001\n",
    "dt = 20/(N-1)\n",
    "t0 = 1900\n",
    "solution = resolutionSystem1EulerRK4(alpha,beta,delta,gamma,y0,z0,t0,dt,N)"
   ]
  },
  {
   "cell_type": "code",
   "execution_count": null,
   "metadata": {},
   "outputs": [],
   "source": [
    "def MC(samples):\n",
    "\n",
    "    mean = np.mean(samples) \n",
    "    sigma2 = np.mean(samples**2)-mean**2\n",
    "    return mean, sigma2"
   ]
  },
  {
   "attachments": {},
   "cell_type": "markdown",
   "metadata": {},
   "source": [
    "### t0=1900"
   ]
  },
  {
   "cell_type": "code",
   "execution_count": 24,
   "metadata": {},
   "outputs": [],
   "source": [
    "meany,sigma2y = MC(y0)\n",
    "meanz,sigma2z = MC(z0)\n",
    "# tracer cette loi de lognormal"
   ]
  },
  {
   "attachments": {},
   "cell_type": "markdown",
   "metadata": {},
   "source": [
    "### t1=1901"
   ]
  },
  {
   "attachments": {},
   "cell_type": "markdown",
   "metadata": {},
   "source": [
    "### t2=1920"
   ]
  }
 ],
 "metadata": {
  "kernelspec": {
   "display_name": "base",
   "language": "python",
   "name": "python3"
  },
  "language_info": {
   "codemirror_mode": {
    "name": "ipython",
    "version": 3
   },
   "file_extension": ".py",
   "mimetype": "text/x-python",
   "name": "python",
   "nbconvert_exporter": "python",
   "pygments_lexer": "ipython3",
   "version": "3.9.7"
  },
  "orig_nbformat": 4,
  "vscode": {
   "interpreter": {
    "hash": "40d3a090f54c6569ab1632332b64b2c03c39dcf918b08424e98f38b5ae0af88f"
   }
  }
 },
 "nbformat": 4,
 "nbformat_minor": 2
}
