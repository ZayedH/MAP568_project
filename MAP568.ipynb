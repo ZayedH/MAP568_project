{
 "cells": [
  {
   "cell_type": "code",
   "execution_count": 1,
   "metadata": {},
   "outputs": [],
   "source": [
    "import numpy as np"
   ]
  },
  {
   "attachments": {},
   "cell_type": "markdown",
   "metadata": {},
   "source": [
    "# Q1"
   ]
  },
  {
   "cell_type": "code",
   "execution_count": 15,
   "metadata": {},
   "outputs": [],
   "source": [
    "def resolutionSystem1(alpha,beta,delta,gamma,y0,z0,t0,dt,N):\n",
    "    \"Cette fonctipn permet de resoudre le système (1)\"\n",
    "    temps = np.arange(0,N)*dt+t0 # si j'ai bien compris la question (dt=10/N pour 10 années)\n",
    "    y = [y0]\n",
    "    z = [z0]\n",
    "    for i in range(0,N-1):\n",
    "        y.append(y[i]+dt*y[i]*(alpha-beta*z[i]))\n",
    "        z.append(z[i]+dt*z[i]*(delta*y[i]-gamma))\n",
    "\n",
    "    return temps,y,z"
   ]
  },
  {
   "attachments": {},
   "cell_type": "markdown",
   "metadata": {},
   "source": [
    "# Q2"
   ]
  },
  {
   "cell_type": "code",
   "execution_count": null,
   "metadata": {},
   "outputs": [],
   "source": []
  }
 ],
 "metadata": {
  "kernelspec": {
   "display_name": "base",
   "language": "python",
   "name": "python3"
  },
  "language_info": {
   "codemirror_mode": {
    "name": "ipython",
    "version": 3
   },
   "file_extension": ".py",
   "mimetype": "text/x-python",
   "name": "python",
   "nbconvert_exporter": "python",
   "pygments_lexer": "ipython3",
   "version": "3.9.7"
  },
  "orig_nbformat": 4,
  "vscode": {
   "interpreter": {
    "hash": "40d3a090f54c6569ab1632332b64b2c03c39dcf918b08424e98f38b5ae0af88f"
   }
  }
 },
 "nbformat": 4,
 "nbformat_minor": 2
}
